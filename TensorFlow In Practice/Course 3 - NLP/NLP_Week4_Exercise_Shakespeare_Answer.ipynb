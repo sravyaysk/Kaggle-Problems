{
  "nbformat": 4,
  "nbformat_minor": 0,
  "metadata": {
    "accelerator": "GPU",
    "colab": {
      "name": "NLP_Week4_Exercise_Shakespeare_Answer.ipynb",
      "provenance": [],
      "toc_visible": true,
      "include_colab_link": true
    },
    "kernelspec": {
      "display_name": "Python 3",
      "name": "python3"
    }
  },
  "cells": [
    {
      "cell_type": "markdown",
      "metadata": {
        "id": "view-in-github",
        "colab_type": "text"
      },
      "source": [
        "<a href=\"https://colab.research.google.com/github/sravyaysk/Kaggle-Problems/blob/master/TensorFlow%20In%20Practice/Course%203%20-%20NLP/NLP_Week4_Exercise_Shakespeare_Answer.ipynb\" target=\"_parent\"><img src=\"https://colab.research.google.com/assets/colab-badge.svg\" alt=\"Open In Colab\"/></a>"
      ]
    },
    {
      "cell_type": "code",
      "metadata": {
        "id": "zX4Kg8DUTKWO"
      },
      "source": [
        "#@title Licensed under the Apache License, Version 2.0 (the \"License\");\n",
        "# you may not use this file except in compliance with the License.\n",
        "# You may obtain a copy of the License at\n",
        "#\n",
        "# https://www.apache.org/licenses/LICENSE-2.0\n",
        "#\n",
        "# Unless required by applicable law or agreed to in writing, software\n",
        "# distributed under the License is distributed on an \"AS IS\" BASIS,\n",
        "# WITHOUT WARRANTIES OR CONDITIONS OF ANY KIND, either express or implied.\n",
        "# See the License for the specific language governing permissions and\n",
        "# limitations under the License."
      ],
      "execution_count": 1,
      "outputs": []
    },
    {
      "cell_type": "code",
      "metadata": {
        "id": "BOwsuGQQY9OL"
      },
      "source": [
        "from tensorflow.keras.preprocessing.sequence import pad_sequences\n",
        "from tensorflow.keras.layers import Embedding, LSTM, Dense, Dropout, Bidirectional\n",
        "from tensorflow.keras.preprocessing.text import Tokenizer\n",
        "from tensorflow.keras.models import Sequential\n",
        "from tensorflow.keras.optimizers import Adam\n",
        "from tensorflow.keras import regularizers\n",
        "import tensorflow.keras.utils as ku \n",
        "import numpy as np "
      ],
      "execution_count": 2,
      "outputs": []
    },
    {
      "cell_type": "code",
      "metadata": {
        "colab": {
          "base_uri": "https://localhost:8080/"
        },
        "id": "PRnDnCW-Z7qv",
        "outputId": "82df4e8f-0c50-427d-cd83-ecd5d60d2f8b"
      },
      "source": [
        "tokenizer = Tokenizer()\n",
        "!wget --no-check-certificate \\\n",
        "    https://storage.googleapis.com/laurencemoroney-blog.appspot.com/sonnets.txt \\\n",
        "    -O /tmp/sonnets.txt\n",
        "data = open('/tmp/sonnets.txt').read()\n",
        "\n",
        "corpus = data.lower().split(\"\\n\")\n",
        "\n",
        "\n",
        "tokenizer.fit_on_texts(corpus)\n",
        "total_words = len(tokenizer.word_index) + 1\n",
        "\n",
        "# create input sequences using list of tokens\n",
        "input_sequences = []\n",
        "for line in corpus:\n",
        "\ttoken_list = tokenizer.texts_to_sequences([line])[0]\n",
        "\tfor i in range(1, len(token_list)):\n",
        "\t\tn_gram_sequence = token_list[:i+1]\n",
        "\t\tinput_sequences.append(n_gram_sequence)\n",
        "\n",
        "\n",
        "# pad sequences \n",
        "max_sequence_len = max([len(x) for x in input_sequences])\n",
        "input_sequences = np.array(pad_sequences(input_sequences, maxlen=max_sequence_len, padding='pre'))\n",
        "\n",
        "# create predictors and label\n",
        "predictors, label = input_sequences[:,:-1],input_sequences[:,-1]\n",
        "\n",
        "label = ku.to_categorical(label, num_classes=total_words)"
      ],
      "execution_count": 3,
      "outputs": [
        {
          "output_type": "stream",
          "text": [
            "--2021-07-25 06:02:08--  https://storage.googleapis.com/laurencemoroney-blog.appspot.com/sonnets.txt\n",
            "Resolving storage.googleapis.com (storage.googleapis.com)... 172.253.63.128, 142.250.31.128, 172.217.2.112, ...\n",
            "Connecting to storage.googleapis.com (storage.googleapis.com)|172.253.63.128|:443... connected.\n",
            "HTTP request sent, awaiting response... 200 OK\n",
            "Length: 93578 (91K) [text/plain]\n",
            "Saving to: ‘/tmp/sonnets.txt’\n",
            "\n",
            "\r/tmp/sonnets.txt      0%[                    ]       0  --.-KB/s               \r/tmp/sonnets.txt    100%[===================>]  91.38K  --.-KB/s    in 0.001s  \n",
            "\n",
            "2021-07-25 06:02:08 (117 MB/s) - ‘/tmp/sonnets.txt’ saved [93578/93578]\n",
            "\n"
          ],
          "name": "stdout"
        }
      ]
    },
    {
      "cell_type": "code",
      "metadata": {
        "colab": {
          "base_uri": "https://localhost:8080/"
        },
        "id": "w9vH8Y59ajYL",
        "outputId": "1807c88b-9905-4cbc-bded-126bb1ac7ef1"
      },
      "source": [
        "model = Sequential()\n",
        "model.add(Embedding(total_words, 100, input_length=max_sequence_len-1))\n",
        "model.add(Bidirectional(LSTM(150, return_sequences = True)))\n",
        "model.add(Dropout(0.2))\n",
        "model.add(LSTM(100))\n",
        "model.add(Dense(total_words/2, activation='relu', kernel_regularizer=regularizers.l2(0.01)))\n",
        "model.add(Dense(total_words, activation='softmax'))\n",
        "model.compile(loss='categorical_crossentropy', optimizer='adam', metrics=['accuracy'])\n",
        "print(model.summary())\n"
      ],
      "execution_count": 4,
      "outputs": [
        {
          "output_type": "stream",
          "text": [
            "Model: \"sequential\"\n",
            "_________________________________________________________________\n",
            "Layer (type)                 Output Shape              Param #   \n",
            "=================================================================\n",
            "embedding (Embedding)        (None, 10, 100)           321100    \n",
            "_________________________________________________________________\n",
            "bidirectional (Bidirectional (None, 10, 300)           301200    \n",
            "_________________________________________________________________\n",
            "dropout (Dropout)            (None, 10, 300)           0         \n",
            "_________________________________________________________________\n",
            "lstm_1 (LSTM)                (None, 100)               160400    \n",
            "_________________________________________________________________\n",
            "dense (Dense)                (None, 1605)              162105    \n",
            "_________________________________________________________________\n",
            "dense_1 (Dense)              (None, 3211)              5156866   \n",
            "=================================================================\n",
            "Total params: 6,101,671\n",
            "Trainable params: 6,101,671\n",
            "Non-trainable params: 0\n",
            "_________________________________________________________________\n",
            "None\n"
          ],
          "name": "stdout"
        }
      ]
    },
    {
      "cell_type": "code",
      "metadata": {
        "colab": {
          "base_uri": "https://localhost:8080/"
        },
        "id": "AIg2f1HBxqof",
        "outputId": "c3129152-4ae6-42f0-f49e-390b8699eb58"
      },
      "source": [
        " history = model.fit(predictors, label, epochs=100, verbose=1)"
      ],
      "execution_count": 5,
      "outputs": [
        {
          "output_type": "stream",
          "text": [
            "Epoch 1/100\n",
            "484/484 [==============================] - 17s 14ms/step - loss: 6.9072 - accuracy: 0.0230\n",
            "Epoch 2/100\n",
            "484/484 [==============================] - 7s 14ms/step - loss: 6.4976 - accuracy: 0.0226\n",
            "Epoch 3/100\n",
            "484/484 [==============================] - 6s 13ms/step - loss: 6.4150 - accuracy: 0.0233\n",
            "Epoch 4/100\n",
            "484/484 [==============================] - 6s 12ms/step - loss: 6.2949 - accuracy: 0.0285\n",
            "Epoch 5/100\n",
            "484/484 [==============================] - 6s 13ms/step - loss: 6.1870 - accuracy: 0.0343\n",
            "Epoch 6/100\n",
            "484/484 [==============================] - 6s 12ms/step - loss: 6.1013 - accuracy: 0.0363\n",
            "Epoch 7/100\n",
            "484/484 [==============================] - 6s 13ms/step - loss: 6.0210 - accuracy: 0.0412\n",
            "Epoch 8/100\n",
            "484/484 [==============================] - 6s 13ms/step - loss: 5.9305 - accuracy: 0.0436\n",
            "Epoch 9/100\n",
            "484/484 [==============================] - 6s 13ms/step - loss: 5.8328 - accuracy: 0.0514\n",
            "Epoch 10/100\n",
            "484/484 [==============================] - 7s 14ms/step - loss: 5.7144 - accuracy: 0.0590\n",
            "Epoch 11/100\n",
            "484/484 [==============================] - 7s 14ms/step - loss: 5.5953 - accuracy: 0.0659\n",
            "Epoch 12/100\n",
            "484/484 [==============================] - 7s 14ms/step - loss: 5.4811 - accuracy: 0.0703\n",
            "Epoch 13/100\n",
            "484/484 [==============================] - 7s 14ms/step - loss: 5.3744 - accuracy: 0.0781\n",
            "Epoch 14/100\n",
            "484/484 [==============================] - 6s 13ms/step - loss: 5.2721 - accuracy: 0.0843\n",
            "Epoch 15/100\n",
            "484/484 [==============================] - 6s 13ms/step - loss: 5.1662 - accuracy: 0.0931\n",
            "Epoch 16/100\n",
            "484/484 [==============================] - 6s 13ms/step - loss: 5.0665 - accuracy: 0.0997\n",
            "Epoch 17/100\n",
            "484/484 [==============================] - 6s 13ms/step - loss: 4.9662 - accuracy: 0.1083\n",
            "Epoch 18/100\n",
            "484/484 [==============================] - 6s 13ms/step - loss: 4.8656 - accuracy: 0.1160\n",
            "Epoch 19/100\n",
            "484/484 [==============================] - 6s 13ms/step - loss: 4.7689 - accuracy: 0.1213\n",
            "Epoch 20/100\n",
            "484/484 [==============================] - 6s 13ms/step - loss: 4.6684 - accuracy: 0.1321\n",
            "Epoch 21/100\n",
            "484/484 [==============================] - 7s 14ms/step - loss: 4.5646 - accuracy: 0.1422\n",
            "Epoch 22/100\n",
            "484/484 [==============================] - 7s 14ms/step - loss: 4.4660 - accuracy: 0.1534\n",
            "Epoch 23/100\n",
            "484/484 [==============================] - 7s 14ms/step - loss: 4.3659 - accuracy: 0.1649\n",
            "Epoch 24/100\n",
            "484/484 [==============================] - 6s 13ms/step - loss: 4.2632 - accuracy: 0.1773\n",
            "Epoch 25/100\n",
            "484/484 [==============================] - 6s 13ms/step - loss: 4.1644 - accuracy: 0.1901\n",
            "Epoch 26/100\n",
            "484/484 [==============================] - 6s 13ms/step - loss: 4.0609 - accuracy: 0.2053\n",
            "Epoch 27/100\n",
            "484/484 [==============================] - 6s 13ms/step - loss: 3.9684 - accuracy: 0.2180\n",
            "Epoch 28/100\n",
            "484/484 [==============================] - 6s 13ms/step - loss: 3.8712 - accuracy: 0.2358\n",
            "Epoch 29/100\n",
            "484/484 [==============================] - 6s 12ms/step - loss: 3.7803 - accuracy: 0.2495\n",
            "Epoch 30/100\n",
            "484/484 [==============================] - 6s 13ms/step - loss: 3.6850 - accuracy: 0.2687\n",
            "Epoch 31/100\n",
            "484/484 [==============================] - 7s 14ms/step - loss: 3.5959 - accuracy: 0.2878\n",
            "Epoch 32/100\n",
            "484/484 [==============================] - 7s 14ms/step - loss: 3.5170 - accuracy: 0.3013\n",
            "Epoch 33/100\n",
            "484/484 [==============================] - 7s 14ms/step - loss: 3.4257 - accuracy: 0.3187\n",
            "Epoch 34/100\n",
            "484/484 [==============================] - 7s 14ms/step - loss: 3.3441 - accuracy: 0.3386\n",
            "Epoch 35/100\n",
            "484/484 [==============================] - 7s 14ms/step - loss: 3.2616 - accuracy: 0.3613\n",
            "Epoch 36/100\n",
            "484/484 [==============================] - 7s 14ms/step - loss: 3.1870 - accuracy: 0.3769\n",
            "Epoch 37/100\n",
            "484/484 [==============================] - 7s 14ms/step - loss: 3.1157 - accuracy: 0.3913\n",
            "Epoch 38/100\n",
            "484/484 [==============================] - 7s 14ms/step - loss: 3.0465 - accuracy: 0.4075\n",
            "Epoch 39/100\n",
            "484/484 [==============================] - 7s 14ms/step - loss: 2.9729 - accuracy: 0.4179\n",
            "Epoch 40/100\n",
            "484/484 [==============================] - 7s 14ms/step - loss: 2.8893 - accuracy: 0.4429\n",
            "Epoch 41/100\n",
            "484/484 [==============================] - 7s 14ms/step - loss: 2.8273 - accuracy: 0.4532\n",
            "Epoch 42/100\n",
            "484/484 [==============================] - 7s 14ms/step - loss: 2.7742 - accuracy: 0.4645\n",
            "Epoch 43/100\n",
            "484/484 [==============================] - 7s 14ms/step - loss: 2.7131 - accuracy: 0.4820\n",
            "Epoch 44/100\n",
            "484/484 [==============================] - 6s 13ms/step - loss: 2.6529 - accuracy: 0.4902\n",
            "Epoch 45/100\n",
            "484/484 [==============================] - 7s 14ms/step - loss: 2.5819 - accuracy: 0.5108\n",
            "Epoch 46/100\n",
            "484/484 [==============================] - 7s 14ms/step - loss: 2.5352 - accuracy: 0.5197\n",
            "Epoch 47/100\n",
            "484/484 [==============================] - 7s 14ms/step - loss: 2.4820 - accuracy: 0.5317\n",
            "Epoch 48/100\n",
            "484/484 [==============================] - 7s 14ms/step - loss: 2.4202 - accuracy: 0.5473\n",
            "Epoch 49/100\n",
            "484/484 [==============================] - 7s 14ms/step - loss: 2.3835 - accuracy: 0.5536\n",
            "Epoch 50/100\n",
            "484/484 [==============================] - 7s 14ms/step - loss: 2.3380 - accuracy: 0.5607\n",
            "Epoch 51/100\n",
            "484/484 [==============================] - 7s 14ms/step - loss: 2.2980 - accuracy: 0.5747\n",
            "Epoch 52/100\n",
            "484/484 [==============================] - 7s 14ms/step - loss: 2.2420 - accuracy: 0.5847\n",
            "Epoch 53/100\n",
            "484/484 [==============================] - 7s 14ms/step - loss: 2.1912 - accuracy: 0.5976\n",
            "Epoch 54/100\n",
            "484/484 [==============================] - 6s 13ms/step - loss: 2.1396 - accuracy: 0.6116\n",
            "Epoch 55/100\n",
            "484/484 [==============================] - 7s 14ms/step - loss: 2.1115 - accuracy: 0.6144\n",
            "Epoch 56/100\n",
            "484/484 [==============================] - 7s 14ms/step - loss: 2.0657 - accuracy: 0.6233\n",
            "Epoch 57/100\n",
            "484/484 [==============================] - 7s 14ms/step - loss: 2.0227 - accuracy: 0.6342\n",
            "Epoch 58/100\n",
            "484/484 [==============================] - 7s 14ms/step - loss: 2.0128 - accuracy: 0.6320\n",
            "Epoch 59/100\n",
            "484/484 [==============================] - 7s 14ms/step - loss: 1.9598 - accuracy: 0.6471\n",
            "Epoch 60/100\n",
            "484/484 [==============================] - 7s 14ms/step - loss: 1.9247 - accuracy: 0.6563\n",
            "Epoch 61/100\n",
            "484/484 [==============================] - 7s 14ms/step - loss: 1.8948 - accuracy: 0.6607\n",
            "Epoch 62/100\n",
            "484/484 [==============================] - 7s 14ms/step - loss: 1.8641 - accuracy: 0.6667\n",
            "Epoch 63/100\n",
            "484/484 [==============================] - 7s 14ms/step - loss: 1.8285 - accuracy: 0.6769\n",
            "Epoch 64/100\n",
            "484/484 [==============================] - 7s 14ms/step - loss: 1.7934 - accuracy: 0.6838\n",
            "Epoch 65/100\n",
            "484/484 [==============================] - 7s 14ms/step - loss: 1.7630 - accuracy: 0.6907\n",
            "Epoch 66/100\n",
            "484/484 [==============================] - 7s 14ms/step - loss: 1.7422 - accuracy: 0.6913\n",
            "Epoch 67/100\n",
            "484/484 [==============================] - 7s 14ms/step - loss: 1.7129 - accuracy: 0.7023\n",
            "Epoch 68/100\n",
            "484/484 [==============================] - 7s 14ms/step - loss: 1.6857 - accuracy: 0.7073\n",
            "Epoch 69/100\n",
            "484/484 [==============================] - 7s 14ms/step - loss: 1.6628 - accuracy: 0.7089\n",
            "Epoch 70/100\n",
            "484/484 [==============================] - 7s 14ms/step - loss: 1.6338 - accuracy: 0.7146\n",
            "Epoch 71/100\n",
            "484/484 [==============================] - 7s 14ms/step - loss: 1.6136 - accuracy: 0.7206\n",
            "Epoch 72/100\n",
            "484/484 [==============================] - 7s 13ms/step - loss: 1.5908 - accuracy: 0.7262\n",
            "Epoch 73/100\n",
            "484/484 [==============================] - 7s 14ms/step - loss: 1.5682 - accuracy: 0.7275\n",
            "Epoch 74/100\n",
            "484/484 [==============================] - 7s 14ms/step - loss: 1.5359 - accuracy: 0.7318\n",
            "Epoch 75/100\n",
            "484/484 [==============================] - 7s 14ms/step - loss: 1.5218 - accuracy: 0.7371\n",
            "Epoch 76/100\n",
            "484/484 [==============================] - 7s 14ms/step - loss: 1.5068 - accuracy: 0.7402\n",
            "Epoch 77/100\n",
            "484/484 [==============================] - 7s 14ms/step - loss: 1.4974 - accuracy: 0.7394\n",
            "Epoch 78/100\n",
            "484/484 [==============================] - 7s 14ms/step - loss: 1.4632 - accuracy: 0.7475\n",
            "Epoch 79/100\n",
            "484/484 [==============================] - 7s 14ms/step - loss: 1.4356 - accuracy: 0.7542\n",
            "Epoch 80/100\n",
            "484/484 [==============================] - 7s 14ms/step - loss: 1.4352 - accuracy: 0.7533\n",
            "Epoch 81/100\n",
            "484/484 [==============================] - 7s 13ms/step - loss: 1.4289 - accuracy: 0.7515\n",
            "Epoch 82/100\n",
            "484/484 [==============================] - 7s 14ms/step - loss: 1.3943 - accuracy: 0.7645\n",
            "Epoch 83/100\n",
            "484/484 [==============================] - 6s 13ms/step - loss: 1.3747 - accuracy: 0.7653\n",
            "Epoch 84/100\n",
            "484/484 [==============================] - 7s 14ms/step - loss: 1.3496 - accuracy: 0.7712\n",
            "Epoch 85/100\n",
            "484/484 [==============================] - 7s 14ms/step - loss: 1.3353 - accuracy: 0.7772\n",
            "Epoch 86/100\n",
            "484/484 [==============================] - 7s 14ms/step - loss: 1.3294 - accuracy: 0.7722\n",
            "Epoch 87/100\n",
            "484/484 [==============================] - 7s 14ms/step - loss: 1.3218 - accuracy: 0.7744\n",
            "Epoch 88/100\n",
            "484/484 [==============================] - 7s 14ms/step - loss: 1.2981 - accuracy: 0.7806\n",
            "Epoch 89/100\n",
            "484/484 [==============================] - 6s 13ms/step - loss: 1.2919 - accuracy: 0.7791\n",
            "Epoch 90/100\n",
            "484/484 [==============================] - 6s 13ms/step - loss: 1.2822 - accuracy: 0.7809\n",
            "Epoch 91/100\n",
            "484/484 [==============================] - 6s 13ms/step - loss: 1.2671 - accuracy: 0.7819\n",
            "Epoch 92/100\n",
            "484/484 [==============================] - 6s 12ms/step - loss: 1.2486 - accuracy: 0.7864\n",
            "Epoch 93/100\n",
            "484/484 [==============================] - 6s 13ms/step - loss: 1.2362 - accuracy: 0.7872\n",
            "Epoch 94/100\n",
            "484/484 [==============================] - 6s 13ms/step - loss: 1.2366 - accuracy: 0.7866\n",
            "Epoch 95/100\n",
            "484/484 [==============================] - 7s 14ms/step - loss: 1.2303 - accuracy: 0.7864\n",
            "Epoch 96/100\n",
            "484/484 [==============================] - 7s 14ms/step - loss: 1.2099 - accuracy: 0.7910\n",
            "Epoch 97/100\n",
            "484/484 [==============================] - 7s 14ms/step - loss: 1.1936 - accuracy: 0.7952\n",
            "Epoch 98/100\n",
            "484/484 [==============================] - 7s 14ms/step - loss: 1.1916 - accuracy: 0.7945\n",
            "Epoch 99/100\n",
            "484/484 [==============================] - 6s 13ms/step - loss: 1.1733 - accuracy: 0.7988\n",
            "Epoch 100/100\n",
            "484/484 [==============================] - 6s 13ms/step - loss: 1.1504 - accuracy: 0.8022\n"
          ],
          "name": "stdout"
        }
      ]
    },
    {
      "cell_type": "code",
      "metadata": {
        "colab": {
          "base_uri": "https://localhost:8080/",
          "height": 545
        },
        "id": "1fXTEO3GJ282",
        "outputId": "d2420380-5b48-4316-d40e-4faa9498b89e"
      },
      "source": [
        "import matplotlib.pyplot as plt\n",
        "acc = history.history['accuracy']\n",
        "loss = history.history['loss']\n",
        "\n",
        "epochs = range(len(acc))\n",
        "\n",
        "plt.plot(epochs, acc, 'b', label='Training accuracy')\n",
        "plt.title('Training accuracy')\n",
        "\n",
        "plt.figure()\n",
        "\n",
        "plt.plot(epochs, loss, 'b', label='Training Loss')\n",
        "plt.title('Training loss')\n",
        "plt.legend()\n",
        "\n",
        "plt.show()"
      ],
      "execution_count": 8,
      "outputs": [
        {
          "output_type": "display_data",
          "data": {
            "image/png": "[encoded data removed]",
            "text/plain": [
              "<Figure size 432x288 with 1 Axes>"
            ]
          },
          "metadata": {
            "tags": [],
            "needs_background": "light"
          }
        },
        {
          "output_type": "display_data",
          "data": {
            "image/png": "[encoded data removed]",
            "text/plain": [
              "<Figure size 432x288 with 1 Axes>"
            ]
          },
          "metadata": {
            "tags": [],
            "needs_background": "light"
          }
        }
      ]
    },
    {
      "cell_type": "code",
      "metadata": {
        "colab": {
          "base_uri": "https://localhost:8080/"
        },
        "id": "6Vc6PHgxa6Hm",
        "outputId": "673c586e-b05b-461b-a279-6c539f57602a"
      },
      "source": [
        "seed_text = \"Help me Obi Wan Kenobi, you're my only hope\"\n",
        "next_words = 100\n",
        "  \n",
        "for _ in range(next_words):\n",
        "\ttoken_list = tokenizer.texts_to_sequences([seed_text])[0]\n",
        "\ttoken_list = pad_sequences([token_list], maxlen=max_sequence_len-1, padding='pre')\n",
        "\tpredicted = model.predict_classes(token_list, verbose=0)\n",
        "\toutput_word = \"\"\n",
        "\tfor word, index in tokenizer.word_index.items():\n",
        "\t\tif index == predicted:\n",
        "\t\t\toutput_word = word\n",
        "\t\t\tbreak\n",
        "\tseed_text += \" \" + output_word\n",
        "print(seed_text)"
      ],
      "execution_count": 9,
      "outputs": [
        {
          "output_type": "stream",
          "text": [
            "/usr/local/lib/python3.7/dist-packages/tensorflow/python/keras/engine/sequential.py:455: UserWarning: `model.predict_classes()` is deprecated and will be removed after 2021-01-01. Please use instead:* `np.argmax(model.predict(x), axis=-1)`,   if your model does multi-class classification   (e.g. if it uses a `softmax` last-layer activation).* `(model.predict(x) > 0.5).astype(\"int32\")`,   if your model does binary classification   (e.g. if it uses a `sigmoid` last-layer activation).\n",
            "  warnings.warn('`model.predict_classes()` is deprecated and '\n"
          ],
          "name": "stderr"
        },
        {
          "output_type": "stream",
          "text": [
            "Help me Obi Wan Kenobi, you're my only hope remember'd prove thee both bright twain hate blind bright part of thee both write true many old face new days long thought better best so near shade shines die ' still be behold saith thee bright thee told to hope me done both thee to me am still not write me thee long days awake last to press find too pent die new dead lack more and short days things fight hate far blind hate new grave ' die so shall advance show thee behind thee call those forth your worth doth appear hate blind face ' hate of find\n"
          ],
          "name": "stdout"
        }
      ]
    }
  ]
}